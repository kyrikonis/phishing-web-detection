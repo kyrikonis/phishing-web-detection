{
 "cells": [
  {
   "cell_type": "markdown",
   "id": "e0b80c8b-56db-409c-a60f-af21bc279b62",
   "metadata": {},
   "source": [
    "# Modeling and Evaluation"
   ]
  },
  {
   "cell_type": "code",
   "execution_count": 64,
   "id": "2ddee844-ae2b-46d4-a105-2056f6c7cf5e",
   "metadata": {},
   "outputs": [],
   "source": [
    "import pandas as pd\n",
    "import numpy as np\n",
    "from pathlib import Path\n",
    "import matplotlib.pyplot as plt\n",
    "\n",
    "from sklearn.model_selection import StratifiedKFold, GridSearchCV, cross_val_score, train_test_split\n",
    "from sklearn.pipeline import Pipeline\n",
    "from sklearn.preprocessing import StandardScaler\n",
    "from sklearn.linear_model import LogisticRegression\n",
    "from sklearn.ensemble import RandomForestClassifier\n",
    "from xgboost import XGBClassifier\n",
    "from sklearn.metrics import (\n",
    "    roc_auc_score, average_precision_score,\n",
    "    roc_curve, precision_recall_curve\n",
    ")\n",
    "import joblib"
   ]
  },
  {
   "cell_type": "code",
   "execution_count": 65,
   "id": "ee3f92ff-83bb-4466-8241-45d626690ef1",
   "metadata": {},
   "outputs": [],
   "source": [
    "DATA_FEAT = Path(\"../data/features\")\n",
    "df = pd.read_parquet(DATA_FEAT / \"url_features.parquet\")\n"
   ]
  },
  {
   "cell_type": "code",
   "execution_count": 43,
   "id": "ed48a59b-7f05-451f-b4f7-626e7b4e7422",
   "metadata": {},
   "outputs": [],
   "source": [
    "y = df['label'].astype(int)\n",
    "X = df.drop(columns='label')"
   ]
  },
  {
   "cell_type": "code",
   "execution_count": 69,
   "id": "94849509-5c51-4284-a70e-92877385386f",
   "metadata": {},
   "outputs": [
    {
     "name": "stdout",
     "output_type": "stream",
     "text": [
      "Dataset shape: (235795, 50) Target distribution:\n"
     ]
    },
    {
     "data": {
      "text/plain": [
       "label\n",
       "1    0.571895\n",
       "0    0.428105\n",
       "Name: proportion, dtype: float64"
      ]
     },
     "execution_count": 69,
     "metadata": {},
     "output_type": "execute_result"
    }
   ],
   "source": [
    "print(\"Dataset shape:\", X.shape, \"Target distribution:\")\n",
    "y.value_counts(normalize=True)"
   ]
  },
  {
   "cell_type": "code",
   "execution_count": 70,
   "id": "a4031bd9-4292-4495-bdef-491919318406",
   "metadata": {},
   "outputs": [],
   "source": [
    "# Define Models"
   ]
  },
  {
   "cell_type": "code",
   "execution_count": 81,
   "id": "62eca46c-6ab0-447d-94e3-c6fdc00c6431",
   "metadata": {},
   "outputs": [],
   "source": [
    "logreg = Pipeline([\n",
    "    ('scale', StandardScaler(with_mean=False)),  # Scaling only needed for LR\n",
    "    ('model', LogisticRegression(max_iter=500, solver='liblinear'))\n",
    "])"
   ]
  },
  {
   "cell_type": "code",
   "execution_count": 84,
   "id": "6e7a7361-4bb6-4fac-bb75-4667f3a3aca4",
   "metadata": {},
   "outputs": [],
   "source": [
    "rf = RandomForestClassifier(\n",
    "    n_estimators=200, max_depth=None, random_state=1, n_jobs=-1\n",
    ")"
   ]
  },
  {
   "cell_type": "code",
   "execution_count": 85,
   "id": "92cea427-4398-48c2-ac6d-9e865452dd4d",
   "metadata": {},
   "outputs": [],
   "source": [
    "xgb = XGBClassifier(\n",
    "    n_estimators=300,\n",
    "    max_depth=6,\n",
    "    learning_rate=0.1,\n",
    "    subsample=0.8,\n",
    "    colsample_bytree=0.8,\n",
    "    eval_metric='auc',\n",
    "    random_state=1,\n",
    "    n_jobs=-1,\n",
    "    use_label_encoder=False\n",
    ")"
   ]
  },
  {
   "cell_type": "code",
   "execution_count": 86,
   "id": "322b03b4-c503-4d4f-bfd8-bf6a23be462b",
   "metadata": {},
   "outputs": [],
   "source": [
    "models = {\n",
    "    \"LogReg\": logreg,\n",
    "    \"RandomForest\": rf,\n",
    "    \"XGBoost\": xgb\n",
    "}"
   ]
  },
  {
   "cell_type": "markdown",
   "id": "c2cf72c8-52ba-4381-a69f-acf560600e50",
   "metadata": {},
   "source": [
    "# Hyperparameter Grids\n",
    "These are for reference for others but I have not ran on my own laptop due to hardware limitations and time"
   ]
  },
  {
   "cell_type": "code",
   "execution_count": 87,
   "id": "3fb64c6a-8320-4e2f-a79a-188b10f6abf5",
   "metadata": {},
   "outputs": [],
   "source": [
    "param_grids = {\n",
    "    \"LogReg\": {\n",
    "        'model__C': [0.01, 0.1, 1, 10],\n",
    "        'model__penalty': ['l1', 'l2']\n",
    "    },\n",
    "    \"RandomForest\": {\n",
    "        'n_estimators': [200, 400],\n",
    "        'max_depth': [None, 10, 20],\n",
    "        'min_samples_split': [2, 5]\n",
    "    },\n",
    "    \"XGBoost\": {\n",
    "        'n_estimators': [300, 600],\n",
    "        'max_depth': [4, 6, 8],\n",
    "        'learning_rate': [0.01, 0.05, 0.1],\n",
    "        'subsample': [0.8, 1.0],\n",
    "        'colsample_bytree': [0.8, 1.0]\n",
    "    }\n",
    "}"
   ]
  },
  {
   "cell_type": "markdown",
   "id": "3e56c409-d2d7-49a4-9149-ca5fb147b667",
   "metadata": {},
   "source": [
    "# Grid Search with Stratified KFold"
   ]
  },
  {
   "cell_type": "code",
   "execution_count": 89,
   "id": "ab1a645f-ad03-4870-919a-26633bccd33d",
   "metadata": {},
   "outputs": [],
   "source": [
    "# def run_grid_search(name, estimator, param_grid, X, y):\n",
    "#     skf = StratifiedKFold(n_splits=5, shuffle=True, random_state=1)\n",
    "#     grid = GridSearchCV(\n",
    "#         estimator=estimator,\n",
    "#         param_grid=param_grid,\n",
    "#         scoring='roc_auc',\n",
    "#         cv=skf,\n",
    "#         n_jobs=-1,\n",
    "#         verbose=2\n",
    "#     )\n",
    "#     grid.fit(X, y)\n",
    "#     print(f\"[{name}] Best Params:\", grid.best_params_)\n",
    "#     print(f\"[{name}] Best ROC-AUC:\", round(grid.best_score_, 4))\n",
    "#     return grid.best_estimator_"
   ]
  },
  {
   "cell_type": "markdown",
   "id": "f482f609-c9fe-45c7-bd74-1b0c9cd8a982",
   "metadata": {},
   "source": [
    "# Run Models"
   ]
  },
  {
   "cell_type": "code",
   "execution_count": 90,
   "id": "bd527344-bc20-476c-a64d-85743043c7c7",
   "metadata": {},
   "outputs": [],
   "source": [
    "results = {}\n",
    "best_models = {}"
   ]
  },
  {
   "cell_type": "code",
   "execution_count": 91,
   "id": "eb9a0b58-a7ec-43ee-aa62-d1df16ab4794",
   "metadata": {},
   "outputs": [
    {
     "name": "stdout",
     "output_type": "stream",
     "text": [
      "\n",
      "=== LogReg ===\n",
      "\n",
      "=== RandomForest ===\n",
      "\n",
      "=== XGBoost ===\n"
     ]
    },
    {
     "name": "stderr",
     "output_type": "stream",
     "text": [
      "/Users/kyrikonis/anaconda3/envs/phishing-ds/lib/python3.11/site-packages/xgboost/training.py:183: UserWarning: [18:20:22] WARNING: /var/folders/k1/30mswbxs7r1g6zwn8y4fyt500000gp/T/abs_abwcuua5oq/croot/xgboost-split_1749630928197/work/src/learner.cc:738: \n",
      "Parameters: { \"use_label_encoder\" } are not used.\n",
      "\n",
      "  bst.update(dtrain, iteration=i, fobj=obj)\n",
      "/Users/kyrikonis/anaconda3/envs/phishing-ds/lib/python3.11/site-packages/xgboost/training.py:183: UserWarning: [18:20:23] WARNING: /var/folders/k1/30mswbxs7r1g6zwn8y4fyt500000gp/T/abs_abwcuua5oq/croot/xgboost-split_1749630928197/work/src/learner.cc:738: \n",
      "Parameters: { \"use_label_encoder\" } are not used.\n",
      "\n",
      "  bst.update(dtrain, iteration=i, fobj=obj)\n",
      "/Users/kyrikonis/anaconda3/envs/phishing-ds/lib/python3.11/site-packages/xgboost/training.py:183: UserWarning: [18:20:24] WARNING: /var/folders/k1/30mswbxs7r1g6zwn8y4fyt500000gp/T/abs_abwcuua5oq/croot/xgboost-split_1749630928197/work/src/learner.cc:738: \n",
      "Parameters: { \"use_label_encoder\" } are not used.\n",
      "\n",
      "  bst.update(dtrain, iteration=i, fobj=obj)\n",
      "/Users/kyrikonis/anaconda3/envs/phishing-ds/lib/python3.11/site-packages/xgboost/training.py:183: UserWarning: [18:20:25] WARNING: /var/folders/k1/30mswbxs7r1g6zwn8y4fyt500000gp/T/abs_abwcuua5oq/croot/xgboost-split_1749630928197/work/src/learner.cc:738: \n",
      "Parameters: { \"use_label_encoder\" } are not used.\n",
      "\n",
      "  bst.update(dtrain, iteration=i, fobj=obj)\n",
      "/Users/kyrikonis/anaconda3/envs/phishing-ds/lib/python3.11/site-packages/xgboost/training.py:183: UserWarning: [18:20:26] WARNING: /var/folders/k1/30mswbxs7r1g6zwn8y4fyt500000gp/T/abs_abwcuua5oq/croot/xgboost-split_1749630928197/work/src/learner.cc:738: \n",
      "Parameters: { \"use_label_encoder\" } are not used.\n",
      "\n",
      "  bst.update(dtrain, iteration=i, fobj=obj)\n",
      "/Users/kyrikonis/anaconda3/envs/phishing-ds/lib/python3.11/site-packages/xgboost/training.py:183: UserWarning: [18:20:27] WARNING: /var/folders/k1/30mswbxs7r1g6zwn8y4fyt500000gp/T/abs_abwcuua5oq/croot/xgboost-split_1749630928197/work/src/learner.cc:738: \n",
      "Parameters: { \"use_label_encoder\" } are not used.\n",
      "\n",
      "  bst.update(dtrain, iteration=i, fobj=obj)\n",
      "/Users/kyrikonis/anaconda3/envs/phishing-ds/lib/python3.11/site-packages/xgboost/training.py:183: UserWarning: [18:20:28] WARNING: /var/folders/k1/30mswbxs7r1g6zwn8y4fyt500000gp/T/abs_abwcuua5oq/croot/xgboost-split_1749630928197/work/src/learner.cc:738: \n",
      "Parameters: { \"use_label_encoder\" } are not used.\n",
      "\n",
      "  bst.update(dtrain, iteration=i, fobj=obj)\n",
      "/Users/kyrikonis/anaconda3/envs/phishing-ds/lib/python3.11/site-packages/xgboost/training.py:183: UserWarning: [18:20:29] WARNING: /var/folders/k1/30mswbxs7r1g6zwn8y4fyt500000gp/T/abs_abwcuua5oq/croot/xgboost-split_1749630928197/work/src/learner.cc:738: \n",
      "Parameters: { \"use_label_encoder\" } are not used.\n",
      "\n",
      "  bst.update(dtrain, iteration=i, fobj=obj)\n",
      "/Users/kyrikonis/anaconda3/envs/phishing-ds/lib/python3.11/site-packages/xgboost/training.py:183: UserWarning: [18:20:30] WARNING: /var/folders/k1/30mswbxs7r1g6zwn8y4fyt500000gp/T/abs_abwcuua5oq/croot/xgboost-split_1749630928197/work/src/learner.cc:738: \n",
      "Parameters: { \"use_label_encoder\" } are not used.\n",
      "\n",
      "  bst.update(dtrain, iteration=i, fobj=obj)\n",
      "/Users/kyrikonis/anaconda3/envs/phishing-ds/lib/python3.11/site-packages/xgboost/training.py:183: UserWarning: [18:20:30] WARNING: /var/folders/k1/30mswbxs7r1g6zwn8y4fyt500000gp/T/abs_abwcuua5oq/croot/xgboost-split_1749630928197/work/src/learner.cc:738: \n",
      "Parameters: { \"use_label_encoder\" } are not used.\n",
      "\n",
      "  bst.update(dtrain, iteration=i, fobj=obj)\n",
      "/Users/kyrikonis/anaconda3/envs/phishing-ds/lib/python3.11/site-packages/xgboost/training.py:183: UserWarning: [18:20:31] WARNING: /var/folders/k1/30mswbxs7r1g6zwn8y4fyt500000gp/T/abs_abwcuua5oq/croot/xgboost-split_1749630928197/work/src/learner.cc:738: \n",
      "Parameters: { \"use_label_encoder\" } are not used.\n",
      "\n",
      "  bst.update(dtrain, iteration=i, fobj=obj)\n"
     ]
    }
   ],
   "source": [
    "for name, mdl in models.items():\n",
    "    print(f\"\\n=== {name} ===\")\n",
    "    roc = cross_val_score(mdl, X, y, cv=5, scoring='roc_auc').mean()\n",
    "    pr  = cross_val_score(mdl, X, y, cv=5, scoring='average_precision').mean()\n",
    "    results[name] = {'roc_auc': round(roc, 4), 'pr_auc': round(pr, 4)}\n",
    "    best_models[name] = mdl.fit(X, y)"
   ]
  },
  {
   "cell_type": "code",
   "execution_count": 92,
   "id": "d8c969fd-ba34-4033-ad33-8de689c4bb11",
   "metadata": {},
   "outputs": [
    {
     "name": "stdout",
     "output_type": "stream",
     "text": [
      "LogReg {'roc_auc': 0.9999, 'pr_auc': 0.9997}\n",
      "RandomForest {'roc_auc': 1.0, 'pr_auc': 1.0}\n",
      "XGBoost {'roc_auc': 1.0, 'pr_auc': 1.0}\n"
     ]
    }
   ],
   "source": [
    "for k,v in results.items():\n",
    "    print(k, v)"
   ]
  },
  {
   "cell_type": "markdown",
   "id": "0d03c58e-21ac-4a26-a505-8de25682b388",
   "metadata": {},
   "source": [
    "Evaluating Best Model"
   ]
  },
  {
   "cell_type": "code",
   "execution_count": 93,
   "id": "e4e95ecb-1d24-43d0-9e85-cb941baa8422",
   "metadata": {},
   "outputs": [],
   "source": [
    "X_train, X_test, y_train, y_test = train_test_split(\n",
    "    X, y, test_size=0.2, stratify=y, random_state=1\n",
    ")"
   ]
  },
  {
   "cell_type": "code",
   "execution_count": 94,
   "id": "b34dcac4-02cf-45c4-ace8-67c57321142b",
   "metadata": {},
   "outputs": [],
   "source": [
    "best_name = max(results, key=lambda k: results[k]['roc_auc'])\n",
    "final_model = best_models[best_name].fit(X_train, y_train)"
   ]
  },
  {
   "cell_type": "code",
   "execution_count": 95,
   "id": "4213bb83-4ab0-441b-bffa-9c25f7a15bca",
   "metadata": {},
   "outputs": [],
   "source": [
    "probs = final_model.predict_proba(X_test)[:, 1]"
   ]
  },
  {
   "cell_type": "code",
   "execution_count": 96,
   "id": "ec18de02-a8e3-4da7-b56d-332a5bcc8739",
   "metadata": {},
   "outputs": [],
   "source": [
    "fpr, tpr, _ = roc_curve(y_test, probs)\n",
    "prec, rec, thr = precision_recall_curve(y_test, probs)"
   ]
  },
  {
   "cell_type": "code",
   "execution_count": 97,
   "id": "c2cbdd17-307c-4bfe-961a-8c834967f62e",
   "metadata": {},
   "outputs": [
    {
     "data": {
      "image/png": "[encoded data removed]",
      "text/plain": [
       "<Figure size 640x480 with 1 Axes>"
      ]
     },
     "metadata": {},
     "output_type": "display_data"
    }
   ],
   "source": [
    "plt.figure()\n",
    "plt.plot(fpr, tpr)\n",
    "plt.xlabel('FPR'); plt.ylabel('TPR')\n",
    "plt.title(f'ROC Curve - {best_name}')\n",
    "plt.show()"
   ]
  },
  {
   "cell_type": "code",
   "execution_count": 99,
   "id": "1c02f8f7-e491-4d70-9503-6d84de841457",
   "metadata": {},
   "outputs": [
    {
     "data": {
      "image/png": "[encoded data removed]",
      "text/plain": [
       "<Figure size 640x480 with 1 Axes>"
      ]
     },
     "metadata": {},
     "output_type": "display_data"
    }
   ],
   "source": [
    "plt.figure()\n",
    "plt.plot(rec, prec)\n",
    "plt.xlabel(\"Recall\"); plt.ylabel(\"Precision\")\n",
    "plt.title(f\"PR Curve – {best_name}\")\n",
    "plt.show()"
   ]
  },
  {
   "cell_type": "code",
   "execution_count": 100,
   "id": "94844358-a7ff-4a38-9204-fa5873efc260",
   "metadata": {},
   "outputs": [],
   "source": [
    "\n",
    "roc = roc_auc_score(y_test, probs)\n",
    "pr  = average_precision_score(y_test, probs)"
   ]
  },
  {
   "cell_type": "code",
   "execution_count": 101,
   "id": "61495511-b752-4401-9285-ab3f73415264",
   "metadata": {},
   "outputs": [
    {
     "name": "stdout",
     "output_type": "stream",
     "text": [
      "Final RandomForest ROC-AUC: 1.0000, PR-AUC: 1.0000\n"
     ]
    }
   ],
   "source": [
    "print(f\"Final {best_name} ROC-AUC: {roc:.4f}, PR-AUC: {pr:.4f}\")\n"
   ]
  },
  {
   "cell_type": "code",
   "execution_count": 102,
   "id": "1f449717-2425-43ca-b93a-5b1067b9cc15",
   "metadata": {},
   "outputs": [
    {
     "name": "stdout",
     "output_type": "stream",
     "text": [
      "Saved RandomForest model to ../models/\n"
     ]
    }
   ],
   "source": [
    "Path(\"../models\").mkdir(parents=True, exist_ok=True)\n",
    "joblib.dump(final_model, f\"../models/{best_name}_url_model.pkl\")\n",
    "print(f\"Saved {best_name} model to ../models/\")"
   ]
  },
  {
   "cell_type": "code",
   "execution_count": null,
   "id": "6e50ee65-e3e8-46be-9caa-85727ad55bbb",
   "metadata": {},
   "outputs": [],
   "source": []
  }
 ],
 "metadata": {
  "kernelspec": {
   "display_name": "Python (phishing-ds)",
   "language": "python",
   "name": "phishing-ds"
  },
  "language_info": {
   "codemirror_mode": {
    "name": "ipython",
    "version": 3
   },
   "file_extension": ".py",
   "mimetype": "text/x-python",
   "name": "python",
   "nbconvert_exporter": "python",
   "pygments_lexer": "ipython3",
   "version": "3.11.13"
  }
 },
 "nbformat": 4,
 "nbformat_minor": 5
}
